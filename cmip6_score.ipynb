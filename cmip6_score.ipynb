{
 "cells": [
  {
   "cell_type": "markdown",
   "id": "5ba67d5e",
   "metadata": {},
   "source": [
    "# Labrador Sea oxygen CMIP6 model score"
   ]
  },
  {
   "cell_type": "markdown",
   "id": "45496fef",
   "metadata": {},
   "source": [
    "## Background\n",
    "This notebook provides code to accompany the manuscript *\"Decadal variability of oxygen uptake, export, and storage in the Labrador Sea from observations and CMIP6 models\"* by J. Koelling, D. Atamanchuk, J. Karstensen, and DWR Wallace, accepted for publication in Frontiers in Marine Science on October 9, 2023. For questions please contact Jannes Koelling (jannes@uw.edu). The paper will be available at https://www.frontiersin.org/articles/10.3389/fmars.2023.1202299/\n",
    "\n",
    "The code contained herein provides an example of the calculation of a \"model score\" as defined in the paper. This score is designed to assess the degree to which each model reproduces the observed mean and variability in oxygen content, as well as the mean air-sea gas exchange of oxygen. The example given here is for two of the nine CMIP6 models used in the paper, but the code could be easily adapted to output a score for any different model.\n",
    "\n",
    "This example directly accesses CMIP6 data that is hosted online using OpenDAP. This notebook can therefore be run without downloading additional data after forking the repository, unlike [cmip6_score_local](./cmip6_score_local.ipynb) which uses a local file structure."
   ]
  },
  {
   "cell_type": "markdown",
   "id": "352270e5",
   "metadata": {},
   "source": [
    "## Models used\n",
    "\n",
    "In the current version, this file shows the process for the **MIROC E2SL** and **NOAA GFDL**, models, which include gridded data with dimensions `time, lev, lat, lon` for data variable `o2` and `time, lat, lon` for data variable `fgo2`.\n",
    "\n",
    "Other models used in the paper are **NCAR CESM2**, **CMCC ESM2**, **NCC NorESM**, **CCC CanESM2**, **MRI ESM2**, **CNRM ESM2**, and **IPSL CM6A**, which are slow to run either because of their model grid or large file size. This notebook is meant to be a reduced example that allows users to reconstruct the calculation from the paper with relatively little effort. For a calculation including more models, see [cmip6_score_local](./cmip6_score_local.ipynb)."
   ]
  },
  {
   "cell_type": "markdown",
   "id": "f2337156",
   "metadata": {},
   "source": [
    "## Reading data"
   ]
  },
  {
   "cell_type": "markdown",
   "id": "637d4bbd",
   "metadata": {},
   "source": [
    "### Import python packages, and initialize data frames with observational data"
   ]
  },
  {
   "cell_type": "code",
   "execution_count": 1,
   "id": "b54d628f",
   "metadata": {},
   "outputs": [],
   "source": [
    "import numpy as np\n",
    "import pandas as pd\n",
    "import xarray as xr\n",
    "import warnings\n",
    "warnings.filterwarnings('ignore')"
   ]
  },
  {
   "cell_type": "markdown",
   "id": "44834a27",
   "metadata": {},
   "source": [
    "Create dictionaries with OpenDAP file paths for each model. OpenDAP URLs were found using the example notebooks by Ryan Abernathey provided at https://medium.com/pangeo/cmip6-in-the-cloud-five-ways-96b177abe396"
   ]
  },
  {
   "cell_type": "code",
   "execution_count": 2,
   "id": "ed25e1f4",
   "metadata": {},
   "outputs": [],
   "source": [
    "files_o2 = {}\n",
    "files_fgo2 = {}\n",
    "\n",
    "# MIROC E2SL files\n",
    "infl_miroc = 'https://esgf-data1.llnl.gov/thredds/dodsC/css03_data/CMIP6/OMIP/MIROC/MIROC-ES2L/omip1/r1i1p1f2/Omon/'\n",
    "files_o2['miroc_e2sl'] = [infl_miroc + 'o2/gr1/v20200911/o2_Omon_MIROC-ES2L_omip1_r1i1p1f2_gr1_190001-200912.nc']\n",
    "files_fgo2['miroc_e2sl'] = [infl_miroc + 'fgo2/gr1/v20200911/fgo2_Omon_MIROC-ES2L_omip1_r1i1p1f2_gr1_190001-200912.nc']\n",
    "\n",
    "# NOAA GFDL files\n",
    "infl_noaa = 'http://esgdata.gfdl.noaa.gov/thredds/dodsC/gfdl_dataroot4/OMIP/NOAA-GFDL/GFDL-CM4/omip1/r1i1p1f1/Omon/'\n",
    "noaa_o2 = ['o2/gr/v20180701/o2_Omon_GFDL-CM4_omip1_r1i1p1f1_gr_194801-196712.nc',\n",
    "    'o2/gr/v20180701/o2_Omon_GFDL-CM4_omip1_r1i1p1f1_gr_196801-198712.nc',\n",
    "    'o2/gr/v20180701/o2_Omon_GFDL-CM4_omip1_r1i1p1f1_gr_198801-200712.nc']\n",
    "noaa_fgo2 = ['fgo2/gr/v20180701/fgo2_Omon_GFDL-CM4_omip1_r1i1p1f1_gr_194801-196712.nc',\n",
    "    'fgo2/gr/v20180701/fgo2_Omon_GFDL-CM4_omip1_r1i1p1f1_gr_196801-198712.nc',\n",
    "    'fgo2/gr/v20180701/fgo2_Omon_GFDL-CM4_omip1_r1i1p1f1_gr_198801-200712.nc']\n",
    "\n",
    "files_o2['noaa_gfdl'] = [infl_noaa + s for s in noaa_o2]\n",
    "files_fgo2['noaa_gfdl'] = [infl_noaa + s for s in noaa_fgo2]"
   ]
  },
  {
   "cell_type": "markdown",
   "id": "f5cbd54b",
   "metadata": {},
   "source": [
    "Data frames are `df_o2inv_lsw` for time series of oxygen inventory in LSW layer (0-2200m), `df_o2inv_bot` for oxygen inventory in the lower layer (2200m-bottom), `df_o2_prof` for the mean oxygen profile, and `df_gex` for mean gas exchange."
   ]
  },
  {
   "cell_type": "code",
   "execution_count": 3,
   "id": "8a39ae84",
   "metadata": {},
   "outputs": [],
   "source": [
    "df_o2inv_lsw = pd.read_csv('data/O2_ref_ts.csv', index_col=0, parse_dates=True)\n",
    "df_o2inv_bot = pd.read_csv('data/O2_ref_ts_lwr.csv', index_col=0, parse_dates=True)\n",
    "df_o2_prof = pd.read_csv('data/O2_mean_prof.csv', index_col=0).rename(columns={\"Oxygen [muM]\": \"Obs\"})\n",
    "df_gex = pd.DataFrame({'Obs': [22.66]})"
   ]
  },
  {
   "cell_type": "code",
   "execution_count": 4,
   "id": "5d5613da",
   "metadata": {},
   "outputs": [],
   "source": [
    "# Central latitude; longitude can differ depending on whether model uses (0, 360) or (-180, 180) for lon\n",
    "lat0 = 56.823;"
   ]
  },
  {
   "cell_type": "markdown",
   "id": "67a475fa",
   "metadata": {},
   "source": [
    "### Read data for each model, and write into data frames"
   ]
  },
  {
   "cell_type": "code",
   "execution_count": 5,
   "id": "76648be2",
   "metadata": {
    "scrolled": true
   },
   "outputs": [],
   "source": [
    "infl = ['miroc_e2sl', 'noaa_gfdl']\n",
    "for nn in range(0, 2):\n",
    "    ds_o2 = xr.open_mfdataset(files_o2[infl[nn]], data_vars=['o2'])\n",
    "    ds_fgo2 = xr.open_mfdataset(files_fgo2[infl[nn]], data_vars=['fgo2'])\n",
    "    \n",
    "    # Convert from CF time to datetime to make compatible with observational data\n",
    "    ds_o2['time'] = ds_o2.indexes['time'].to_datetimeindex()\n",
    "    ds_fgo2['time'] = ds_fgo2.indexes['time'].to_datetimeindex()\n",
    "    \n",
    "    # Set target longitude either in range (-180, 180) or (0, 360)\n",
    "    lon = ds_o2.lon.data\n",
    "    if lon.max() < 200:\n",
    "        lon0 = -52.22;\n",
    "    else:\n",
    "        lon0 = -52.22+360;\n",
    "        \n",
    "    # Extract data in central Lab Sea\n",
    "    ds_o2_cls = ds_o2.sel(lat=lat0, lon=lon0, method='nearest')\n",
    "    ds_fgo2_cls = ds_fgo2.sel(lat=lat0, lon=lon0, method='nearest')\n",
    "    ds_o2_cls.o2.load()\n",
    "    ds_fgo2_cls.fgo2.load()\n",
    "    \n",
    "    # Calculate inventory for the two layers\n",
    "    dz = np.diff(ds_o2_cls.lev_bnds, axis=1)\n",
    "    o2_inv0 = ds_o2_cls.o2.data*dz.T\n",
    "    o2_inv = o2_inv0[:, ds_o2_cls.lev <= 2200].sum(axis=1)\n",
    "    o2_inv_bot = np.nansum(o2_inv0[:, ds_o2_cls.lev > 2200], axis=1)\n",
    "    \n",
    "    # Calculate mean O2 profile and mean gas exchange. Oxygen values converted from mol/m3 to umol/L\n",
    "    o2_prof = ds_o2_cls.o2.sel(time=slice(\"1950-01\", \"2009-12\")).mean(axis=0)\n",
    "    df_o2_prof[infl[nn]] = np.interp(df_o2_prof.index, ds_o2_cls.lev, o2_prof*1e3)\n",
    "    df_gex[infl[nn]] = ds_fgo2_cls.fgo2.sel(time=slice(\"1950-01\", \"2009-12\")).values.mean()*365*86400\n",
    "    \n",
    "    # Calculate annual means, then use bfill to match time grid of observations because observational data\n",
    "    # are listed as July, while python reports the date for the annual mean for Jan 1 - Dec 31 as Dec 31\n",
    "    # Finally merge into dataframe\n",
    "    df_mod_lsw = pd.DataFrame({infl[nn]: o2_inv}, index = ds_o2_cls.time).resample(\"Y\").mean()\n",
    "    df_mod_lsw = df_mod_lsw.reindex(df_o2inv_lsw.index, method='bfill')\n",
    "    df_o2inv_lsw = df_o2inv_lsw.merge(df_mod_lsw, left_index=True, right_index=True)\n",
    "    \n",
    "    df_mod_bot = pd.DataFrame({infl[nn]: o2_inv_bot}, index = ds_o2_cls.time).resample(\"Y\").mean()\n",
    "    df_mod_bot = df_mod_bot.reindex(df_o2inv_bot.index, method='bfill')\n",
    "    df_o2inv_bot = df_o2inv_bot.merge(df_mod_bot, left_index=True, right_index=True)"
   ]
  },
  {
   "cell_type": "markdown",
   "id": "5605e4eb",
   "metadata": {},
   "source": [
    "## Calculation of model scores\n",
    "The total model score is based on five factors comparing the models to observations: correlation of LSW inventory, maximum LSW inventory anomaly, standard deviation of lower layer inventory anomaly, mean oxygen profile bias, and mean gas exchange. Models can earn between 0 and 20 points for each, for a total of 100 points. More detail on the calculation is provided in the methods section of the paper."
   ]
  },
  {
   "cell_type": "markdown",
   "id": "0a8dc987",
   "metadata": {},
   "source": [
    "Drop columns where any of the models has no data to ensure consistent time frame"
   ]
  },
  {
   "cell_type": "code",
   "execution_count": 6,
   "id": "345cf010",
   "metadata": {},
   "outputs": [],
   "source": [
    "df_o2inv_lsw.dropna(inplace=True)\n",
    "df_o2inv_lsw = df_o2inv_lsw-df_o2inv_lsw.mean()\n",
    "\n",
    "df_o2inv_bot.dropna(inplace=True)\n",
    "df_o2inv_bot = df_o2inv_bot-df_o2inv_bot.mean()"
   ]
  },
  {
   "cell_type": "markdown",
   "id": "65fe7682",
   "metadata": {},
   "source": [
    "### Correlation score\n",
    "Correlation between modeled and observational time series of oxygen content anomalies in the LSW layer"
   ]
  },
  {
   "cell_type": "code",
   "execution_count": 7,
   "id": "99613f21",
   "metadata": {},
   "outputs": [],
   "source": [
    "lsw_corr = df_o2inv_lsw.corrwith(df_o2inv_lsw['Obs'])\n",
    "scr_corr = (20*lsw_corr**2/0.81).round()\n",
    "scr_corr[scr_corr < 0] = 0"
   ]
  },
  {
   "cell_type": "markdown",
   "id": "5a6a134a",
   "metadata": {},
   "source": [
    "### Maximum anomaly in LSW layer (0-2200m)\n",
    "Ratio of the differences between maximum from 1990-1995 and minimum from 2002-2007 in model and observation"
   ]
  },
  {
   "cell_type": "code",
   "execution_count": 8,
   "id": "ccd2fdbb",
   "metadata": {},
   "outputs": [],
   "source": [
    "lsw_max = df_o2inv_lsw[\"1990-01-01\":\"1995-01-01\"].max()-df_o2inv_lsw[\"2002-01-01\":\"2007-01-01\"].min()\n",
    "\n",
    "\n",
    "scr_max = 20*(lsw_max/lsw_max['Obs'])\n",
    "# Set to 0 if less than 0, or use inverse ratio if lsw_max(model) > lsw_max(Obs)\n",
    "scr_max[lsw_max > lsw_max['Obs']] = 20*(lsw_max['Obs']/lsw_max[lsw_max > lsw_max['Obs']])\n",
    "scr_max = scr_max.round()\n",
    "scr_max[scr_max < 0] = 0"
   ]
  },
  {
   "cell_type": "markdown",
   "id": "2f0a5549",
   "metadata": {},
   "source": [
    "### Standard deviation for layer 2 (2200m-bottom)\n",
    "Ratio of standard deviations in bottom layer between models and observations"
   ]
  },
  {
   "cell_type": "code",
   "execution_count": 9,
   "id": "2726b3f1",
   "metadata": {
    "scrolled": true
   },
   "outputs": [],
   "source": [
    "bot_std = df_o2inv_bot.std()\n",
    "\n",
    "scr_std = 20*(bot_std/bot_std['Obs'])\n",
    "# use inverse ratio if bot_std(model) > bot_std(Obs)\n",
    "scr_std[bot_std > bot_std['Obs']] = 20*(bot_std['Obs']/bot_std[bot_std > bot_std['Obs']])\n",
    "scr_std = scr_std.round()"
   ]
  },
  {
   "cell_type": "markdown",
   "id": "040692b0",
   "metadata": {},
   "source": [
    "### Mean Oxygen profile score\n",
    "For this score, 10 points are based on the mean absolute bias in layer 1, and 10 on the mean absolute bias in layer 2. Note that this is different from calculating a bias over the whole water column, because in our calculation a positive bias in one layer and negative in the other do not offset"
   ]
  },
  {
   "cell_type": "code",
   "execution_count": 10,
   "id": "1c8866c8",
   "metadata": {},
   "outputs": [],
   "source": [
    "o2_diff = df_o2_prof.sub(df_o2_prof['Obs'], axis=0)\n",
    "scr_prof_1 = 10 - abs(o2_diff[o2_diff.index < 2200].mean(axis=0))/2\n",
    "scr_prof_2 = 10 - abs(o2_diff[o2_diff.index >= 2200].mean(axis=0))/2\n",
    "scr_prof_1[scr_prof_1 < 0] = 0\n",
    "scr_prof_2[scr_prof_2 < 0] = 0\n",
    "scr_prof = (scr_prof_1 + scr_prof_2).round()"
   ]
  },
  {
   "cell_type": "markdown",
   "id": "a919177c",
   "metadata": {},
   "source": [
    "### Gas exchange score\n",
    "Based on comparison of the mean gas exchange over the study period with the mean and standard deviation of values taken from the literature (Wolf et al, 2018 and Atamanchuk et al., 2020; see paper for references)"
   ]
  },
  {
   "cell_type": "code",
   "execution_count": 11,
   "id": "25997f87",
   "metadata": {},
   "outputs": [],
   "source": [
    "std_gex = 5.2\n",
    "\n",
    "scr_gex = (20-(abs(df_gex['Obs'][0]-df_gex)-std_gex/2)/(4*std_gex)*20).round()\n",
    "scr_gex[scr_gex < 0] = 0\n",
    "scr_gex[scr_gex > 20] = 20"
   ]
  },
  {
   "cell_type": "markdown",
   "id": "4960c127",
   "metadata": {},
   "source": [
    "### Calculate and print total score"
   ]
  },
  {
   "cell_type": "markdown",
   "id": "c7f54e60",
   "metadata": {},
   "source": [
    "Note that these scores can be slightly different from those reported in the paper because of small differences in how Matlab and python handle some of the operations"
   ]
  },
  {
   "cell_type": "code",
   "execution_count": 12,
   "id": "c8ddf902",
   "metadata": {},
   "outputs": [
    {
     "data": {
      "text/html": [
       "<div>\n",
       "<style scoped>\n",
       "    .dataframe tbody tr th:only-of-type {\n",
       "        vertical-align: middle;\n",
       "    }\n",
       "\n",
       "    .dataframe tbody tr th {\n",
       "        vertical-align: top;\n",
       "    }\n",
       "\n",
       "    .dataframe thead th {\n",
       "        text-align: right;\n",
       "    }\n",
       "</style>\n",
       "<table border=\"1\" class=\"dataframe\">\n",
       "  <thead>\n",
       "    <tr style=\"text-align: right;\">\n",
       "      <th></th>\n",
       "      <th>miroc_e2sl</th>\n",
       "      <th>noaa_gfdl</th>\n",
       "    </tr>\n",
       "  </thead>\n",
       "  <tbody>\n",
       "    <tr>\n",
       "      <th>0</th>\n",
       "      <td>51.0</td>\n",
       "      <td>45.0</td>\n",
       "    </tr>\n",
       "  </tbody>\n",
       "</table>\n",
       "</div>"
      ],
      "text/plain": [
       "   miroc_e2sl  noaa_gfdl\n",
       "0        51.0       45.0"
      ]
     },
     "execution_count": 12,
     "metadata": {},
     "output_type": "execute_result"
    }
   ],
   "source": [
    "scr = scr_corr + scr_max + scr_std + scr_prof + scr_gex\n",
    "scr.drop(['Obs'], axis=1)"
   ]
  },
  {
   "cell_type": "code",
   "execution_count": null,
   "id": "9105778e",
   "metadata": {},
   "outputs": [],
   "source": []
  }
 ],
 "metadata": {
  "kernelspec": {
   "display_name": "Python 3 (ipykernel)",
   "language": "python",
   "name": "python3"
  },
  "language_info": {
   "codemirror_mode": {
    "name": "ipython",
    "version": 3
   },
   "file_extension": ".py",
   "mimetype": "text/x-python",
   "name": "python",
   "nbconvert_exporter": "python",
   "pygments_lexer": "ipython3",
   "version": "3.11.4"
  }
 },
 "nbformat": 4,
 "nbformat_minor": 5
}
